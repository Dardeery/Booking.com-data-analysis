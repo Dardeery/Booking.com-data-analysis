{
 "cells": [
  {
   "cell_type": "markdown",
   "metadata": {},
   "source": [
    "#### Trivago Data Exploration"
   ]
  },
  {
   "cell_type": "markdown",
   "metadata": {},
   "source": [
    "##### assessment"
   ]
  },
  {
   "cell_type": "code",
   "execution_count": 1,
   "metadata": {},
   "outputs": [],
   "source": [
    "import pandas as pd\n",
    "import numpy as np\n",
    "import matplotlib.pyplot as plt"
   ]
  },
  {
   "cell_type": "code",
   "execution_count": 6,
   "metadata": {},
   "outputs": [],
   "source": [
    "df=pd.read_csv(\"session_data.csv\")"
   ]
  },
  {
   "cell_type": "code",
   "execution_count": 8,
   "metadata": {},
   "outputs": [],
   "source": [
    "data=df.copy()"
   ]
  },
  {
   "cell_type": "code",
   "execution_count": 9,
   "metadata": {},
   "outputs": [],
   "source": [
    "#work on the data copy\n",
    "data=df.copy()"
   ]
  },
  {
   "cell_type": "code",
   "execution_count": 10,
   "metadata": {},
   "outputs": [
    {
     "data": {
      "text/plain": [
       "(900000, 16)"
      ]
     },
     "execution_count": 10,
     "metadata": {},
     "output_type": "execute_result"
    }
   ],
   "source": [
    "data.shape"
   ]
  },
  {
   "cell_type": "code",
   "execution_count": 11,
   "metadata": {},
   "outputs": [
    {
     "data": {
      "text/plain": [
       "Index(['ymd', 'session_id', 'tracking_id', 'platform', 'is_app', 'is_repeater',\n",
       "       'traffic_type', 'country_name', 'agent_id', 'clickouts', 'bookings',\n",
       "       'session_duration', 'entry_page', 'total_ctp', 'arrival_day',\n",
       "       'departure_day'],\n",
       "      dtype='object')"
      ]
     },
     "execution_count": 11,
     "metadata": {},
     "output_type": "execute_result"
    }
   ],
   "source": [
    "data.columns"
   ]
  },
  {
   "cell_type": "code",
   "execution_count": 12,
   "metadata": {},
   "outputs": [
    {
     "data": {
      "text/html": [
       "<div>\n",
       "<style scoped>\n",
       "    .dataframe tbody tr th:only-of-type {\n",
       "        vertical-align: middle;\n",
       "    }\n",
       "\n",
       "    .dataframe tbody tr th {\n",
       "        vertical-align: top;\n",
       "    }\n",
       "\n",
       "    .dataframe thead th {\n",
       "        text-align: right;\n",
       "    }\n",
       "</style>\n",
       "<table border=\"1\" class=\"dataframe\">\n",
       "  <thead>\n",
       "    <tr style=\"text-align: right;\">\n",
       "      <th></th>\n",
       "      <th>ymd</th>\n",
       "      <th>session_id</th>\n",
       "      <th>is_app</th>\n",
       "      <th>is_repeater</th>\n",
       "      <th>traffic_type</th>\n",
       "      <th>agent_id</th>\n",
       "      <th>clickouts</th>\n",
       "      <th>bookings</th>\n",
       "      <th>entry_page</th>\n",
       "      <th>total_ctp</th>\n",
       "    </tr>\n",
       "  </thead>\n",
       "  <tbody>\n",
       "    <tr>\n",
       "      <th>count</th>\n",
       "      <td>9.000000e+05</td>\n",
       "      <td>9.000000e+05</td>\n",
       "      <td>900000.0</td>\n",
       "      <td>900000.000000</td>\n",
       "      <td>900000.000000</td>\n",
       "      <td>900000.000000</td>\n",
       "      <td>900000.000000</td>\n",
       "      <td>900000.000000</td>\n",
       "      <td>900000.000000</td>\n",
       "      <td>900000.000000</td>\n",
       "    </tr>\n",
       "    <tr>\n",
       "      <th>mean</th>\n",
       "      <td>2.018036e+07</td>\n",
       "      <td>2.018036e+18</td>\n",
       "      <td>0.0</td>\n",
       "      <td>0.391088</td>\n",
       "      <td>4.982533</td>\n",
       "      <td>15.087582</td>\n",
       "      <td>0.836068</td>\n",
       "      <td>0.010381</td>\n",
       "      <td>2126.121292</td>\n",
       "      <td>6.597208</td>\n",
       "    </tr>\n",
       "    <tr>\n",
       "      <th>std</th>\n",
       "      <td>5.068007e+01</td>\n",
       "      <td>5.067845e+12</td>\n",
       "      <td>0.0</td>\n",
       "      <td>0.487994</td>\n",
       "      <td>2.395181</td>\n",
       "      <td>7.559502</td>\n",
       "      <td>1.826044</td>\n",
       "      <td>0.110524</td>\n",
       "      <td>65.908910</td>\n",
       "      <td>30.528072</td>\n",
       "    </tr>\n",
       "    <tr>\n",
       "      <th>min</th>\n",
       "      <td>2.018030e+07</td>\n",
       "      <td>2.018030e+18</td>\n",
       "      <td>0.0</td>\n",
       "      <td>0.000000</td>\n",
       "      <td>2.000000</td>\n",
       "      <td>2.000000</td>\n",
       "      <td>0.000000</td>\n",
       "      <td>0.000000</td>\n",
       "      <td>2100.000000</td>\n",
       "      <td>0.000000</td>\n",
       "    </tr>\n",
       "    <tr>\n",
       "      <th>25%</th>\n",
       "      <td>2.018032e+07</td>\n",
       "      <td>2.018032e+18</td>\n",
       "      <td>0.0</td>\n",
       "      <td>0.000000</td>\n",
       "      <td>2.000000</td>\n",
       "      <td>12.000000</td>\n",
       "      <td>0.000000</td>\n",
       "      <td>0.000000</td>\n",
       "      <td>2111.000000</td>\n",
       "      <td>0.000000</td>\n",
       "    </tr>\n",
       "    <tr>\n",
       "      <th>50%</th>\n",
       "      <td>2.018033e+07</td>\n",
       "      <td>2.018033e+18</td>\n",
       "      <td>0.0</td>\n",
       "      <td>0.000000</td>\n",
       "      <td>6.000000</td>\n",
       "      <td>18.000000</td>\n",
       "      <td>0.000000</td>\n",
       "      <td>0.000000</td>\n",
       "      <td>2113.000000</td>\n",
       "      <td>0.000000</td>\n",
       "    </tr>\n",
       "    <tr>\n",
       "      <th>75%</th>\n",
       "      <td>2.018042e+07</td>\n",
       "      <td>2.018042e+18</td>\n",
       "      <td>0.0</td>\n",
       "      <td>1.000000</td>\n",
       "      <td>6.000000</td>\n",
       "      <td>20.000000</td>\n",
       "      <td>1.000000</td>\n",
       "      <td>0.000000</td>\n",
       "      <td>2116.000000</td>\n",
       "      <td>1.000000</td>\n",
       "    </tr>\n",
       "    <tr>\n",
       "      <th>max</th>\n",
       "      <td>2.018043e+07</td>\n",
       "      <td>2.018043e+18</td>\n",
       "      <td>0.0</td>\n",
       "      <td>1.000000</td>\n",
       "      <td>10.000000</td>\n",
       "      <td>28.000000</td>\n",
       "      <td>154.000000</td>\n",
       "      <td>8.000000</td>\n",
       "      <td>2502.000000</td>\n",
       "      <td>2958.000000</td>\n",
       "    </tr>\n",
       "  </tbody>\n",
       "</table>\n",
       "</div>"
      ],
      "text/plain": [
       "                ymd    session_id    is_app    is_repeater   traffic_type  \\\n",
       "count  9.000000e+05  9.000000e+05  900000.0  900000.000000  900000.000000   \n",
       "mean   2.018036e+07  2.018036e+18       0.0       0.391088       4.982533   \n",
       "std    5.068007e+01  5.067845e+12       0.0       0.487994       2.395181   \n",
       "min    2.018030e+07  2.018030e+18       0.0       0.000000       2.000000   \n",
       "25%    2.018032e+07  2.018032e+18       0.0       0.000000       2.000000   \n",
       "50%    2.018033e+07  2.018033e+18       0.0       0.000000       6.000000   \n",
       "75%    2.018042e+07  2.018042e+18       0.0       1.000000       6.000000   \n",
       "max    2.018043e+07  2.018043e+18       0.0       1.000000      10.000000   \n",
       "\n",
       "            agent_id      clickouts       bookings     entry_page  \\\n",
       "count  900000.000000  900000.000000  900000.000000  900000.000000   \n",
       "mean       15.087582       0.836068       0.010381    2126.121292   \n",
       "std         7.559502       1.826044       0.110524      65.908910   \n",
       "min         2.000000       0.000000       0.000000    2100.000000   \n",
       "25%        12.000000       0.000000       0.000000    2111.000000   \n",
       "50%        18.000000       0.000000       0.000000    2113.000000   \n",
       "75%        20.000000       1.000000       0.000000    2116.000000   \n",
       "max        28.000000     154.000000       8.000000    2502.000000   \n",
       "\n",
       "           total_ctp  \n",
       "count  900000.000000  \n",
       "mean        6.597208  \n",
       "std        30.528072  \n",
       "min         0.000000  \n",
       "25%         0.000000  \n",
       "50%         0.000000  \n",
       "75%         1.000000  \n",
       "max      2958.000000  "
      ]
     },
     "execution_count": 12,
     "metadata": {},
     "output_type": "execute_result"
    }
   ],
   "source": [
    "data.describe()"
   ]
  },
  {
   "cell_type": "code",
   "execution_count": 13,
   "metadata": {},
   "outputs": [
    {
     "data": {
      "image/png": "[encoded data removed]",
      "text/plain": [
       "<Figure size 432x288 with 1 Axes>"
      ]
     },
     "metadata": {
      "needs_background": "light"
     },
     "output_type": "display_data"
    }
   ],
   "source": [
    "\n",
    "# show top 15 country\n",
    "data.country_name.groupby(data.country_name).count().sort_values(ascending=False).head(15).plot(kind='bar')\n",
    "\n",
    "\n",
    "plt.show()"
   ]
  },
  {
   "cell_type": "code",
   "execution_count": 14,
   "metadata": {},
   "outputs": [
    {
     "data": {
      "text/plain": [
       "<matplotlib.axes._subplots.AxesSubplot at 0x1e7088ce888>"
      ]
     },
     "execution_count": 14,
     "metadata": {},
     "output_type": "execute_result"
    },
    {
     "data": {
      "image/png": "[encoded data removed]",
      "text/plain": [
       "<Figure size 432x288 with 1 Axes>"
      ]
     },
     "metadata": {
      "needs_background": "light"
     },
     "output_type": "display_data"
    }
   ],
   "source": [
    "# show least 15 country\n",
    "data.country_name.groupby(data.country_name).count().sort_values(ascending=False).tail(15).plot(kind='bar')\n"
   ]
  },
  {
   "cell_type": "markdown",
   "metadata": {},
   "source": [
    "#### quality issue \n",
    "\n",
    "1. ymd is not a valid date format  \n",
    "* current format yyyymmdd \n",
    "* new format yyyy-mm-dd"
   ]
  },
  {
   "cell_type": "code",
   "execution_count": 15,
   "metadata": {},
   "outputs": [
    {
     "data": {
      "text/plain": [
       "0        2018-03-17\n",
       "1        2018-04-21\n",
       "2        2018-04-19\n",
       "3        2018-04-29\n",
       "4        2018-04-05\n",
       "            ...    \n",
       "899995   2018-03-03\n",
       "899996   2018-04-28\n",
       "899997   2018-04-13\n",
       "899998   2018-04-18\n",
       "899999   2018-03-28\n",
       "Name: ymd, Length: 900000, dtype: datetime64[ns]"
      ]
     },
     "execution_count": 15,
     "metadata": {},
     "output_type": "execute_result"
    }
   ],
   "source": [
    "# solution\n",
    "data.ymd=pd.to_datetime(data['ymd'], format='%Y%m%d')\n",
    "\n",
    "#test\n",
    "data.ymd"
   ]
  },
  {
   "cell_type": "code",
   "execution_count": 16,
   "metadata": {},
   "outputs": [
    {
     "data": {
      "text/html": [
       "<div>\n",
       "<style scoped>\n",
       "    .dataframe tbody tr th:only-of-type {\n",
       "        vertical-align: middle;\n",
       "    }\n",
       "\n",
       "    .dataframe tbody tr th {\n",
       "        vertical-align: top;\n",
       "    }\n",
       "\n",
       "    .dataframe thead th {\n",
       "        text-align: right;\n",
       "    }\n",
       "</style>\n",
       "<table border=\"1\" class=\"dataframe\">\n",
       "  <thead>\n",
       "    <tr style=\"text-align: right;\">\n",
       "      <th></th>\n",
       "      <th>ymd</th>\n",
       "      <th>session_id</th>\n",
       "      <th>tracking_id</th>\n",
       "      <th>platform</th>\n",
       "      <th>is_app</th>\n",
       "      <th>is_repeater</th>\n",
       "      <th>traffic_type</th>\n",
       "      <th>country_name</th>\n",
       "      <th>agent_id</th>\n",
       "      <th>clickouts</th>\n",
       "      <th>bookings</th>\n",
       "      <th>session_duration</th>\n",
       "      <th>entry_page</th>\n",
       "      <th>total_ctp</th>\n",
       "      <th>arrival_day</th>\n",
       "      <th>departure_day</th>\n",
       "    </tr>\n",
       "  </thead>\n",
       "  <tbody>\n",
       "    <tr>\n",
       "      <th>0</th>\n",
       "      <td>2018-03-17</td>\n",
       "      <td>2018031709007001454</td>\n",
       "      <td>8TQMP2ZFW3</td>\n",
       "      <td>IN</td>\n",
       "      <td>0</td>\n",
       "      <td>0</td>\n",
       "      <td>2</td>\n",
       "      <td>India</td>\n",
       "      <td>20</td>\n",
       "      <td>1</td>\n",
       "      <td>0</td>\n",
       "      <td>691</td>\n",
       "      <td>2100</td>\n",
       "      <td>2</td>\n",
       "      <td>20180318</td>\n",
       "      <td>20180319</td>\n",
       "    </tr>\n",
       "    <tr>\n",
       "      <th>1</th>\n",
       "      <td>2018-04-21</td>\n",
       "      <td>2018042115070025908</td>\n",
       "      <td>VR61OF5K1B</td>\n",
       "      <td>DE</td>\n",
       "      <td>0</td>\n",
       "      <td>1</td>\n",
       "      <td>2</td>\n",
       "      <td>Germany</td>\n",
       "      <td>20</td>\n",
       "      <td>0</td>\n",
       "      <td>0</td>\n",
       "      <td>134</td>\n",
       "      <td>2100</td>\n",
       "      <td>0</td>\n",
       "      <td>\\N</td>\n",
       "      <td>\\N</td>\n",
       "    </tr>\n",
       "    <tr>\n",
       "      <th>2</th>\n",
       "      <td>2018-04-19</td>\n",
       "      <td>2018041906042028472</td>\n",
       "      <td>1M38SITXM0</td>\n",
       "      <td>TR</td>\n",
       "      <td>0</td>\n",
       "      <td>0</td>\n",
       "      <td>2</td>\n",
       "      <td>Turkey</td>\n",
       "      <td>20</td>\n",
       "      <td>0</td>\n",
       "      <td>0</td>\n",
       "      <td>189</td>\n",
       "      <td>2100</td>\n",
       "      <td>31</td>\n",
       "      <td>\\N</td>\n",
       "      <td>\\N</td>\n",
       "    </tr>\n",
       "    <tr>\n",
       "      <th>3</th>\n",
       "      <td>2018-04-29</td>\n",
       "      <td>2018042913038063890</td>\n",
       "      <td>7J2MNK45NU</td>\n",
       "      <td>DE</td>\n",
       "      <td>0</td>\n",
       "      <td>0</td>\n",
       "      <td>10</td>\n",
       "      <td>Mexico</td>\n",
       "      <td>20</td>\n",
       "      <td>0</td>\n",
       "      <td>0</td>\n",
       "      <td>83</td>\n",
       "      <td>2116</td>\n",
       "      <td>0</td>\n",
       "      <td>\\N</td>\n",
       "      <td>\\N</td>\n",
       "    </tr>\n",
       "    <tr>\n",
       "      <th>4</th>\n",
       "      <td>2018-04-05</td>\n",
       "      <td>2018040511098032520</td>\n",
       "      <td>4VB4NF25TK</td>\n",
       "      <td>UK</td>\n",
       "      <td>0</td>\n",
       "      <td>0</td>\n",
       "      <td>2</td>\n",
       "      <td>United Kingdom</td>\n",
       "      <td>20</td>\n",
       "      <td>1</td>\n",
       "      <td>0</td>\n",
       "      <td>2407</td>\n",
       "      <td>2100</td>\n",
       "      <td>80</td>\n",
       "      <td>20180825</td>\n",
       "      <td>20180830</td>\n",
       "    </tr>\n",
       "    <tr>\n",
       "      <th>...</th>\n",
       "      <td>...</td>\n",
       "      <td>...</td>\n",
       "      <td>...</td>\n",
       "      <td>...</td>\n",
       "      <td>...</td>\n",
       "      <td>...</td>\n",
       "      <td>...</td>\n",
       "      <td>...</td>\n",
       "      <td>...</td>\n",
       "      <td>...</td>\n",
       "      <td>...</td>\n",
       "      <td>...</td>\n",
       "      <td>...</td>\n",
       "      <td>...</td>\n",
       "      <td>...</td>\n",
       "      <td>...</td>\n",
       "    </tr>\n",
       "    <tr>\n",
       "      <th>899995</th>\n",
       "      <td>2018-03-03</td>\n",
       "      <td>2018030318954011164</td>\n",
       "      <td>YGG0J168V4</td>\n",
       "      <td>CA</td>\n",
       "      <td>0</td>\n",
       "      <td>1</td>\n",
       "      <td>8</td>\n",
       "      <td>Canada</td>\n",
       "      <td>16</td>\n",
       "      <td>0</td>\n",
       "      <td>0</td>\n",
       "      <td>13</td>\n",
       "      <td>2116</td>\n",
       "      <td>0</td>\n",
       "      <td>\\N</td>\n",
       "      <td>\\N</td>\n",
       "    </tr>\n",
       "    <tr>\n",
       "      <th>899996</th>\n",
       "      <td>2018-04-28</td>\n",
       "      <td>2018042823310017549</td>\n",
       "      <td>AM6OG6HQTN</td>\n",
       "      <td>AU</td>\n",
       "      <td>0</td>\n",
       "      <td>0</td>\n",
       "      <td>8</td>\n",
       "      <td>Australia</td>\n",
       "      <td>20</td>\n",
       "      <td>0</td>\n",
       "      <td>0</td>\n",
       "      <td>42</td>\n",
       "      <td>2113</td>\n",
       "      <td>0</td>\n",
       "      <td>\\N</td>\n",
       "      <td>\\N</td>\n",
       "    </tr>\n",
       "    <tr>\n",
       "      <th>899997</th>\n",
       "      <td>2018-04-13</td>\n",
       "      <td>2018041320055037366</td>\n",
       "      <td>WPZZZU0EP6</td>\n",
       "      <td>BE</td>\n",
       "      <td>0</td>\n",
       "      <td>1</td>\n",
       "      <td>8</td>\n",
       "      <td>Belgium</td>\n",
       "      <td>20</td>\n",
       "      <td>1</td>\n",
       "      <td>0</td>\n",
       "      <td>151</td>\n",
       "      <td>2116</td>\n",
       "      <td>37</td>\n",
       "      <td>20180618</td>\n",
       "      <td>20180619</td>\n",
       "    </tr>\n",
       "    <tr>\n",
       "      <th>899998</th>\n",
       "      <td>2018-04-18</td>\n",
       "      <td>2018041808332011694</td>\n",
       "      <td>SO4QPH2UI9</td>\n",
       "      <td>AU</td>\n",
       "      <td>0</td>\n",
       "      <td>0</td>\n",
       "      <td>8</td>\n",
       "      <td>Australia</td>\n",
       "      <td>20</td>\n",
       "      <td>0</td>\n",
       "      <td>0</td>\n",
       "      <td>15</td>\n",
       "      <td>2113</td>\n",
       "      <td>0</td>\n",
       "      <td>\\N</td>\n",
       "      <td>\\N</td>\n",
       "    </tr>\n",
       "    <tr>\n",
       "      <th>899999</th>\n",
       "      <td>2018-03-28</td>\n",
       "      <td>2018032802927012146</td>\n",
       "      <td>ZAYJCL3C9V</td>\n",
       "      <td>EC</td>\n",
       "      <td>0</td>\n",
       "      <td>0</td>\n",
       "      <td>8</td>\n",
       "      <td>Ecuador</td>\n",
       "      <td>20</td>\n",
       "      <td>0</td>\n",
       "      <td>0</td>\n",
       "      <td>27</td>\n",
       "      <td>2116</td>\n",
       "      <td>2</td>\n",
       "      <td>\\N</td>\n",
       "      <td>\\N</td>\n",
       "    </tr>\n",
       "  </tbody>\n",
       "</table>\n",
       "<p>900000 rows × 16 columns</p>\n",
       "</div>"
      ],
      "text/plain": [
       "              ymd           session_id tracking_id platform  is_app  \\\n",
       "0      2018-03-17  2018031709007001454  8TQMP2ZFW3       IN       0   \n",
       "1      2018-04-21  2018042115070025908  VR61OF5K1B       DE       0   \n",
       "2      2018-04-19  2018041906042028472  1M38SITXM0       TR       0   \n",
       "3      2018-04-29  2018042913038063890  7J2MNK45NU       DE       0   \n",
       "4      2018-04-05  2018040511098032520  4VB4NF25TK       UK       0   \n",
       "...           ...                  ...         ...      ...     ...   \n",
       "899995 2018-03-03  2018030318954011164  YGG0J168V4       CA       0   \n",
       "899996 2018-04-28  2018042823310017549  AM6OG6HQTN       AU       0   \n",
       "899997 2018-04-13  2018041320055037366  WPZZZU0EP6       BE       0   \n",
       "899998 2018-04-18  2018041808332011694  SO4QPH2UI9       AU       0   \n",
       "899999 2018-03-28  2018032802927012146  ZAYJCL3C9V       EC       0   \n",
       "\n",
       "        is_repeater  traffic_type    country_name  agent_id  clickouts  \\\n",
       "0                 0             2           India        20          1   \n",
       "1                 1             2         Germany        20          0   \n",
       "2                 0             2          Turkey        20          0   \n",
       "3                 0            10          Mexico        20          0   \n",
       "4                 0             2  United Kingdom        20          1   \n",
       "...             ...           ...             ...       ...        ...   \n",
       "899995            1             8          Canada        16          0   \n",
       "899996            0             8       Australia        20          0   \n",
       "899997            1             8         Belgium        20          1   \n",
       "899998            0             8       Australia        20          0   \n",
       "899999            0             8         Ecuador        20          0   \n",
       "\n",
       "        bookings session_duration  entry_page  total_ctp arrival_day  \\\n",
       "0              0              691        2100          2    20180318   \n",
       "1              0              134        2100          0          \\N   \n",
       "2              0              189        2100         31          \\N   \n",
       "3              0               83        2116          0          \\N   \n",
       "4              0             2407        2100         80    20180825   \n",
       "...          ...              ...         ...        ...         ...   \n",
       "899995         0               13        2116          0          \\N   \n",
       "899996         0               42        2113          0          \\N   \n",
       "899997         0              151        2116         37    20180618   \n",
       "899998         0               15        2113          0          \\N   \n",
       "899999         0               27        2116          2          \\N   \n",
       "\n",
       "       departure_day  \n",
       "0           20180319  \n",
       "1                 \\N  \n",
       "2                 \\N  \n",
       "3                 \\N  \n",
       "4           20180830  \n",
       "...              ...  \n",
       "899995            \\N  \n",
       "899996            \\N  \n",
       "899997      20180619  \n",
       "899998            \\N  \n",
       "899999            \\N  \n",
       "\n",
       "[900000 rows x 16 columns]"
      ]
     },
     "execution_count": 16,
     "metadata": {},
     "output_type": "execute_result"
    }
   ],
   "source": [
    "data"
   ]
  },
  {
   "cell_type": "code",
   "execution_count": 17,
   "metadata": {},
   "outputs": [
    {
     "data": {
      "text/plain": [
       "dtype('int64')"
      ]
     },
     "execution_count": 17,
     "metadata": {},
     "output_type": "execute_result"
    }
   ],
   "source": [
    "data['session_id'].dtype"
   ]
  },
  {
   "cell_type": "code",
   "execution_count": 18,
   "metadata": {},
   "outputs": [],
   "source": [
    "data['session_id']=data.session_id.map(str)"
   ]
  },
  {
   "cell_type": "code",
   "execution_count": 45,
   "metadata": {},
   "outputs": [],
   "source": [
    "#take the date until minutes and sec.\n",
    "#now the format is yyyymmddHHMMSS\n",
    "data['date']=data['session_id'].str[:10] \n",
    "## for sec. [10:12]\n",
    "## for hour [8:10]\n",
    "## 2018-03-28-02:927012146"
   ]
  },
  {
   "cell_type": "code",
   "execution_count": 34,
   "metadata": {},
   "outputs": [
    {
     "data": {
      "text/plain": [
       "<matplotlib.axes._subplots.AxesSubplot at 0x1e724a27448>"
      ]
     },
     "execution_count": 34,
     "metadata": {},
     "output_type": "execute_result"
    },
    {
     "data": {
      "image/png": "[encoded data removed]",
      "text/plain": [
       "<Figure size 432x288 with 1 Axes>"
      ]
     },
     "metadata": {
      "needs_background": "light"
     },
     "output_type": "display_data"
    }
   ],
   "source": [
    "## checking minutes ( it should be <=60)\n",
    "## for most cases it yes, but some values are not. \n",
    "data.date.groupby(data.date).count().plot()\n",
    "\n",
    "# solution will take minutes out ! "
   ]
  },
  {
   "cell_type": "code",
   "execution_count": 44,
   "metadata": {},
   "outputs": [
    {
     "data": {
      "text/plain": [
       "<matplotlib.axes._subplots.AxesSubplot at 0x1e72538eb08>"
      ]
     },
     "execution_count": 44,
     "metadata": {},
     "output_type": "execute_result"
    },
    {
     "data": {
      "image/png": "[encoded data removed]",
      "text/plain": [
       "<Figure size 432x288 with 1 Axes>"
      ]
     },
     "metadata": {
      "needs_background": "light"
     },
     "output_type": "display_data"
    }
   ],
   "source": [
    "## checking minutes ( it should be <=24)\n",
    "## for most cases it yes, but some values are not. \n",
    "data.date.groupby(data.date).count().plot(kind='bar')\n",
    "\n",
    "# result: keep only the hours ! "
   ]
  },
  {
   "cell_type": "code",
   "execution_count": 46,
   "metadata": {},
   "outputs": [
    {
     "data": {
      "text/plain": [
       "0        2018-03-17 09:00:00\n",
       "1        2018-04-21 15:00:00\n",
       "2        2018-04-19 06:00:00\n",
       "3        2018-04-29 13:00:00\n",
       "4        2018-04-05 11:00:00\n",
       "                 ...        \n",
       "899995   2018-03-03 18:00:00\n",
       "899996   2018-04-28 23:00:00\n",
       "899997   2018-04-13 20:00:00\n",
       "899998   2018-04-18 08:00:00\n",
       "899999   2018-03-28 02:00:00\n",
       "Name: date, Length: 900000, dtype: datetime64[ns]"
      ]
     },
     "execution_count": 46,
     "metadata": {},
     "output_type": "execute_result"
    }
   ],
   "source": [
    "#extract hour of session from session id\n",
    "\n",
    "data.date=pd.to_datetime(data['date'],format='%Y%m%d%H')\n",
    "data.date"
   ]
  },
  {
   "cell_type": "code",
   "execution_count": 47,
   "metadata": {},
   "outputs": [
    {
     "data": {
      "text/html": [
       "<div>\n",
       "<style scoped>\n",
       "    .dataframe tbody tr th:only-of-type {\n",
       "        vertical-align: middle;\n",
       "    }\n",
       "\n",
       "    .dataframe tbody tr th {\n",
       "        vertical-align: top;\n",
       "    }\n",
       "\n",
       "    .dataframe thead th {\n",
       "        text-align: right;\n",
       "    }\n",
       "</style>\n",
       "<table border=\"1\" class=\"dataframe\">\n",
       "  <thead>\n",
       "    <tr style=\"text-align: right;\">\n",
       "      <th></th>\n",
       "      <th>ymd</th>\n",
       "      <th>date</th>\n",
       "    </tr>\n",
       "  </thead>\n",
       "  <tbody>\n",
       "    <tr>\n",
       "      <th>0</th>\n",
       "      <td>2018-03-17</td>\n",
       "      <td>2018-03-17 09:00:00</td>\n",
       "    </tr>\n",
       "    <tr>\n",
       "      <th>1</th>\n",
       "      <td>2018-04-21</td>\n",
       "      <td>2018-04-21 15:00:00</td>\n",
       "    </tr>\n",
       "    <tr>\n",
       "      <th>2</th>\n",
       "      <td>2018-04-19</td>\n",
       "      <td>2018-04-19 06:00:00</td>\n",
       "    </tr>\n",
       "    <tr>\n",
       "      <th>3</th>\n",
       "      <td>2018-04-29</td>\n",
       "      <td>2018-04-29 13:00:00</td>\n",
       "    </tr>\n",
       "    <tr>\n",
       "      <th>4</th>\n",
       "      <td>2018-04-05</td>\n",
       "      <td>2018-04-05 11:00:00</td>\n",
       "    </tr>\n",
       "    <tr>\n",
       "      <th>...</th>\n",
       "      <td>...</td>\n",
       "      <td>...</td>\n",
       "    </tr>\n",
       "    <tr>\n",
       "      <th>899995</th>\n",
       "      <td>2018-03-03</td>\n",
       "      <td>2018-03-03 18:00:00</td>\n",
       "    </tr>\n",
       "    <tr>\n",
       "      <th>899996</th>\n",
       "      <td>2018-04-28</td>\n",
       "      <td>2018-04-28 23:00:00</td>\n",
       "    </tr>\n",
       "    <tr>\n",
       "      <th>899997</th>\n",
       "      <td>2018-04-13</td>\n",
       "      <td>2018-04-13 20:00:00</td>\n",
       "    </tr>\n",
       "    <tr>\n",
       "      <th>899998</th>\n",
       "      <td>2018-04-18</td>\n",
       "      <td>2018-04-18 08:00:00</td>\n",
       "    </tr>\n",
       "    <tr>\n",
       "      <th>899999</th>\n",
       "      <td>2018-03-28</td>\n",
       "      <td>2018-03-28 02:00:00</td>\n",
       "    </tr>\n",
       "  </tbody>\n",
       "</table>\n",
       "<p>900000 rows × 2 columns</p>\n",
       "</div>"
      ],
      "text/plain": [
       "              ymd                date\n",
       "0      2018-03-17 2018-03-17 09:00:00\n",
       "1      2018-04-21 2018-04-21 15:00:00\n",
       "2      2018-04-19 2018-04-19 06:00:00\n",
       "3      2018-04-29 2018-04-29 13:00:00\n",
       "4      2018-04-05 2018-04-05 11:00:00\n",
       "...           ...                 ...\n",
       "899995 2018-03-03 2018-03-03 18:00:00\n",
       "899996 2018-04-28 2018-04-28 23:00:00\n",
       "899997 2018-04-13 2018-04-13 20:00:00\n",
       "899998 2018-04-18 2018-04-18 08:00:00\n",
       "899999 2018-03-28 2018-03-28 02:00:00\n",
       "\n",
       "[900000 rows x 2 columns]"
      ]
     },
     "execution_count": 47,
     "metadata": {},
     "output_type": "execute_result"
    }
   ],
   "source": [
    "data[['ymd','date']]"
   ]
  },
  {
   "cell_type": "code",
   "execution_count": 48,
   "metadata": {},
   "outputs": [
    {
     "data": {
      "text/plain": [
       "<matplotlib.axes._subplots.AxesSubplot at 0x1e712243f48>"
      ]
     },
     "execution_count": 48,
     "metadata": {},
     "output_type": "execute_result"
    },
    {
     "data": {
      "image/png": "[encoded data removed]",
      "text/plain": [
       "<Figure size 432x288 with 1 Axes>"
      ]
     },
     "metadata": {
      "needs_background": "light"
     },
     "output_type": "display_data"
    }
   ],
   "source": [
    "#top agents !\n",
    "\n",
    "data.agent_id.groupby(data.agent_id).count().sort_values(ascending=False).plot(kind='bar')"
   ]
  },
  {
   "cell_type": "code",
   "execution_count": 49,
   "metadata": {},
   "outputs": [],
   "source": [
    "# replace \"\\N\" with \"NaN\" for data analysis \n",
    "data.departure_day.replace(\"\\\\N\",np.NaN,inplace=True)\n",
    "data.arrival_day.replace(\"\\\\N\", np.NaN,inplace=True)"
   ]
  },
  {
   "cell_type": "code",
   "execution_count": 50,
   "metadata": {},
   "outputs": [],
   "source": [
    "data.arrival_day=pd.to_datetime(data['arrival_day'],format='%Y%m%d')\n",
    "data.departure_day=pd.to_datetime(data['departure_day'],format='%Y%m%d')"
   ]
  },
  {
   "cell_type": "code",
   "execution_count": 51,
   "metadata": {},
   "outputs": [
    {
     "data": {
      "text/plain": [
       "0        2018-03-19\n",
       "1               NaT\n",
       "2               NaT\n",
       "3               NaT\n",
       "4        2018-08-30\n",
       "            ...    \n",
       "899995          NaT\n",
       "899996          NaT\n",
       "899997   2018-06-19\n",
       "899998          NaT\n",
       "899999          NaT\n",
       "Name: departure_day, Length: 900000, dtype: datetime64[ns]"
      ]
     },
     "execution_count": 51,
     "metadata": {},
     "output_type": "execute_result"
    }
   ],
   "source": [
    "data.departure_day"
   ]
  },
  {
   "cell_type": "code",
   "execution_count": 52,
   "metadata": {},
   "outputs": [],
   "source": [
    "# number of nights stayed ! \n",
    "\n",
    "data['nights']=data.departure_day- data.arrival_day\n",
    "#20180319-20180318"
   ]
  },
  {
   "cell_type": "code",
   "execution_count": 53,
   "metadata": {},
   "outputs": [
    {
     "data": {
      "text/plain": [
       "nights\n",
       "0 days          11\n",
       "1 days      184286\n",
       "2 days       52074\n",
       "3 days       34475\n",
       "4 days       21321\n",
       "             ...  \n",
       "88 days          2\n",
       "89 days          4\n",
       "90 days          3\n",
       "91 days          7\n",
       "122 days         1\n",
       "Name: nights, Length: 87, dtype: int64"
      ]
     },
     "execution_count": 53,
     "metadata": {},
     "output_type": "execute_result"
    }
   ],
   "source": [
    "data.nights.groupby(data.nights).count()#.plot()"
   ]
  },
  {
   "cell_type": "code",
   "execution_count": 54,
   "metadata": {},
   "outputs": [
    {
     "data": {
      "text/plain": [
       "<matplotlib.axes._subplots.AxesSubplot at 0x1e710a12f08>"
      ]
     },
     "execution_count": 54,
     "metadata": {},
     "output_type": "execute_result"
    },
    {
     "data": {
      "image/png": "[encoded data removed]",
      "text/plain": [
       "<Figure size 432x288 with 1 Axes>"
      ]
     },
     "metadata": {
      "needs_background": "light"
     },
     "output_type": "display_data"
    }
   ],
   "source": [
    "## main entry page\n",
    "\n",
    "data.entry_page.value_counts().head(10).plot(kind='bar')"
   ]
  },
  {
   "cell_type": "code",
   "execution_count": 55,
   "metadata": {},
   "outputs": [
    {
     "name": "stderr",
     "output_type": "stream",
     "text": [
      "C:\\ProgramData\\Anaconda3\\lib\\site-packages\\ipykernel_launcher.py:3: UserWarning: Boolean Series key will be reindexed to match DataFrame index.\n",
      "  This is separate from the ipykernel package so we can avoid doing imports until\n"
     ]
    },
    {
     "data": {
      "text/html": [
       "<div>\n",
       "<style scoped>\n",
       "    .dataframe tbody tr th:only-of-type {\n",
       "        vertical-align: middle;\n",
       "    }\n",
       "\n",
       "    .dataframe tbody tr th {\n",
       "        vertical-align: top;\n",
       "    }\n",
       "\n",
       "    .dataframe thead th {\n",
       "        text-align: right;\n",
       "    }\n",
       "</style>\n",
       "<table border=\"1\" class=\"dataframe\">\n",
       "  <thead>\n",
       "    <tr style=\"text-align: right;\">\n",
       "      <th></th>\n",
       "      <th>bookings</th>\n",
       "      <th>nights</th>\n",
       "    </tr>\n",
       "  </thead>\n",
       "  <tbody>\n",
       "    <tr>\n",
       "      <th>5256</th>\n",
       "      <td>1</td>\n",
       "      <td>NaT</td>\n",
       "    </tr>\n",
       "    <tr>\n",
       "      <th>12848</th>\n",
       "      <td>1</td>\n",
       "      <td>NaT</td>\n",
       "    </tr>\n",
       "    <tr>\n",
       "      <th>21517</th>\n",
       "      <td>1</td>\n",
       "      <td>NaT</td>\n",
       "    </tr>\n",
       "    <tr>\n",
       "      <th>28636</th>\n",
       "      <td>1</td>\n",
       "      <td>NaT</td>\n",
       "    </tr>\n",
       "    <tr>\n",
       "      <th>32265</th>\n",
       "      <td>1</td>\n",
       "      <td>NaT</td>\n",
       "    </tr>\n",
       "    <tr>\n",
       "      <th>...</th>\n",
       "      <td>...</td>\n",
       "      <td>...</td>\n",
       "    </tr>\n",
       "    <tr>\n",
       "      <th>721981</th>\n",
       "      <td>1</td>\n",
       "      <td>NaT</td>\n",
       "    </tr>\n",
       "    <tr>\n",
       "      <th>791211</th>\n",
       "      <td>1</td>\n",
       "      <td>NaT</td>\n",
       "    </tr>\n",
       "    <tr>\n",
       "      <th>838708</th>\n",
       "      <td>1</td>\n",
       "      <td>NaT</td>\n",
       "    </tr>\n",
       "    <tr>\n",
       "      <th>869209</th>\n",
       "      <td>1</td>\n",
       "      <td>NaT</td>\n",
       "    </tr>\n",
       "    <tr>\n",
       "      <th>881027</th>\n",
       "      <td>1</td>\n",
       "      <td>NaT</td>\n",
       "    </tr>\n",
       "  </tbody>\n",
       "</table>\n",
       "<p>163 rows × 2 columns</p>\n",
       "</div>"
      ],
      "text/plain": [
       "        bookings nights\n",
       "5256           1    NaT\n",
       "12848          1    NaT\n",
       "21517          1    NaT\n",
       "28636          1    NaT\n",
       "32265          1    NaT\n",
       "...          ...    ...\n",
       "721981         1    NaT\n",
       "791211         1    NaT\n",
       "838708         1    NaT\n",
       "869209         1    NaT\n",
       "881027         1    NaT\n",
       "\n",
       "[163 rows x 2 columns]"
      ]
     },
     "execution_count": 55,
     "metadata": {},
     "output_type": "execute_result"
    }
   ],
   "source": [
    "## data quality issue , customers who made bookings but no nights 'n=163 '\n",
    "\n",
    "data[['bookings','nights']][data['bookings']!=0][data['nights'].isnull()]"
   ]
  },
  {
   "cell_type": "code",
   "execution_count": 56,
   "metadata": {},
   "outputs": [
    {
     "name": "stderr",
     "output_type": "stream",
     "text": [
      "C:\\ProgramData\\Anaconda3\\lib\\site-packages\\ipykernel_launcher.py:3: UserWarning: Boolean Series key will be reindexed to match DataFrame index.\n",
      "  This is separate from the ipykernel package so we can avoid doing imports until\n"
     ]
    },
    {
     "data": {
      "text/html": [
       "<div>\n",
       "<style scoped>\n",
       "    .dataframe tbody tr th:only-of-type {\n",
       "        vertical-align: middle;\n",
       "    }\n",
       "\n",
       "    .dataframe tbody tr th {\n",
       "        vertical-align: top;\n",
       "    }\n",
       "\n",
       "    .dataframe thead th {\n",
       "        text-align: right;\n",
       "    }\n",
       "</style>\n",
       "<table border=\"1\" class=\"dataframe\">\n",
       "  <thead>\n",
       "    <tr style=\"text-align: right;\">\n",
       "      <th></th>\n",
       "      <th>bookings</th>\n",
       "      <th>nights</th>\n",
       "    </tr>\n",
       "  </thead>\n",
       "  <tbody>\n",
       "    <tr>\n",
       "      <th>0</th>\n",
       "      <td>0</td>\n",
       "      <td>1 days</td>\n",
       "    </tr>\n",
       "    <tr>\n",
       "      <th>4</th>\n",
       "      <td>0</td>\n",
       "      <td>5 days</td>\n",
       "    </tr>\n",
       "    <tr>\n",
       "      <th>7</th>\n",
       "      <td>0</td>\n",
       "      <td>1 days</td>\n",
       "    </tr>\n",
       "    <tr>\n",
       "      <th>9</th>\n",
       "      <td>0</td>\n",
       "      <td>4 days</td>\n",
       "    </tr>\n",
       "    <tr>\n",
       "      <th>10</th>\n",
       "      <td>0</td>\n",
       "      <td>1 days</td>\n",
       "    </tr>\n",
       "    <tr>\n",
       "      <th>...</th>\n",
       "      <td>...</td>\n",
       "      <td>...</td>\n",
       "    </tr>\n",
       "    <tr>\n",
       "      <th>899983</th>\n",
       "      <td>0</td>\n",
       "      <td>1 days</td>\n",
       "    </tr>\n",
       "    <tr>\n",
       "      <th>899984</th>\n",
       "      <td>0</td>\n",
       "      <td>1 days</td>\n",
       "    </tr>\n",
       "    <tr>\n",
       "      <th>899991</th>\n",
       "      <td>0</td>\n",
       "      <td>1 days</td>\n",
       "    </tr>\n",
       "    <tr>\n",
       "      <th>899992</th>\n",
       "      <td>0</td>\n",
       "      <td>1 days</td>\n",
       "    </tr>\n",
       "    <tr>\n",
       "      <th>899997</th>\n",
       "      <td>0</td>\n",
       "      <td>1 days</td>\n",
       "    </tr>\n",
       "  </tbody>\n",
       "</table>\n",
       "<p>336035 rows × 2 columns</p>\n",
       "</div>"
      ],
      "text/plain": [
       "        bookings nights\n",
       "0              0 1 days\n",
       "4              0 5 days\n",
       "7              0 1 days\n",
       "9              0 4 days\n",
       "10             0 1 days\n",
       "...          ...    ...\n",
       "899983         0 1 days\n",
       "899984         0 1 days\n",
       "899991         0 1 days\n",
       "899992         0 1 days\n",
       "899997         0 1 days\n",
       "\n",
       "[336035 rows x 2 columns]"
      ]
     },
     "execution_count": 56,
     "metadata": {},
     "output_type": "execute_result"
    }
   ],
   "source": [
    "# quality issue, accounts spent nights but no booking on the website [n=336035]\n",
    "\n",
    "data[['bookings','nights']][data['bookings']==0][data['nights'].notnull()]"
   ]
  },
  {
   "cell_type": "code",
   "execution_count": 60,
   "metadata": {},
   "outputs": [
    {
     "data": {
      "text/plain": [
       "is_app\n",
       "0    900000\n",
       "Name: is_app, dtype: int64"
      ]
     },
     "execution_count": 60,
     "metadata": {},
     "output_type": "execute_result"
    }
   ],
   "source": [
    "data.is_app.groupby(data.is_app).count()"
   ]
  },
  {
   "cell_type": "code",
   "execution_count": 62,
   "metadata": {},
   "outputs": [
    {
     "data": {
      "text/plain": [
       "is_repeater\n",
       "0    548021\n",
       "1    351979\n",
       "Name: is_repeater, dtype: int64"
      ]
     },
     "execution_count": 62,
     "metadata": {},
     "output_type": "execute_result"
    }
   ],
   "source": [
    "data.is_repeater.groupby(data.is_repeater).count()"
   ]
  },
  {
   "cell_type": "code",
   "execution_count": 64,
   "metadata": {},
   "outputs": [
    {
     "data": {
      "text/plain": [
       "traffic_type\n",
       "2     292431\n",
       "4     100000\n",
       "6     294068\n",
       "8     200000\n",
       "10     13501\n",
       "Name: traffic_type, dtype: int64"
      ]
     },
     "execution_count": 64,
     "metadata": {},
     "output_type": "execute_result"
    }
   ],
   "source": [
    "data.traffic_type.groupby(data.traffic_type).count()"
   ]
  },
  {
   "cell_type": "code",
   "execution_count": 65,
   "metadata": {},
   "outputs": [
    {
     "data": {
      "text/plain": [
       "clickouts\n",
       "0      555424\n",
       "1      190204\n",
       "2       71215\n",
       "3       33273\n",
       "4       17901\n",
       "        ...  \n",
       "86          1\n",
       "97          1\n",
       "113         1\n",
       "131         1\n",
       "154         1\n",
       "Name: clickouts, Length: 71, dtype: int64"
      ]
     },
     "execution_count": 65,
     "metadata": {},
     "output_type": "execute_result"
    }
   ],
   "source": [
    "data.clickouts.groupby(data.clickouts).count()"
   ]
  },
  {
   "cell_type": "code",
   "execution_count": 63,
   "metadata": {},
   "outputs": [
    {
     "data": {
      "text/html": [
       "<div>\n",
       "<style scoped>\n",
       "    .dataframe tbody tr th:only-of-type {\n",
       "        vertical-align: middle;\n",
       "    }\n",
       "\n",
       "    .dataframe tbody tr th {\n",
       "        vertical-align: top;\n",
       "    }\n",
       "\n",
       "    .dataframe thead th {\n",
       "        text-align: right;\n",
       "    }\n",
       "</style>\n",
       "<table border=\"1\" class=\"dataframe\">\n",
       "  <thead>\n",
       "    <tr style=\"text-align: right;\">\n",
       "      <th></th>\n",
       "      <th>ymd</th>\n",
       "      <th>session_id</th>\n",
       "      <th>tracking_id</th>\n",
       "      <th>platform</th>\n",
       "      <th>is_app</th>\n",
       "      <th>is_repeater</th>\n",
       "      <th>traffic_type</th>\n",
       "      <th>country_name</th>\n",
       "      <th>agent_id</th>\n",
       "      <th>clickouts</th>\n",
       "      <th>bookings</th>\n",
       "      <th>session_duration</th>\n",
       "      <th>entry_page</th>\n",
       "      <th>total_ctp</th>\n",
       "      <th>arrival_day</th>\n",
       "      <th>departure_day</th>\n",
       "      <th>date</th>\n",
       "      <th>nights</th>\n",
       "    </tr>\n",
       "  </thead>\n",
       "  <tbody>\n",
       "    <tr>\n",
       "      <th>0</th>\n",
       "      <td>2018-03-17</td>\n",
       "      <td>2018031709007001454</td>\n",
       "      <td>8TQMP2ZFW3</td>\n",
       "      <td>IN</td>\n",
       "      <td>0</td>\n",
       "      <td>0</td>\n",
       "      <td>2</td>\n",
       "      <td>India</td>\n",
       "      <td>20</td>\n",
       "      <td>1</td>\n",
       "      <td>0</td>\n",
       "      <td>691</td>\n",
       "      <td>2100</td>\n",
       "      <td>2</td>\n",
       "      <td>2018-03-18</td>\n",
       "      <td>2018-03-19</td>\n",
       "      <td>2018-03-17 09:00:00</td>\n",
       "      <td>1 days</td>\n",
       "    </tr>\n",
       "    <tr>\n",
       "      <th>1</th>\n",
       "      <td>2018-04-21</td>\n",
       "      <td>2018042115070025908</td>\n",
       "      <td>VR61OF5K1B</td>\n",
       "      <td>DE</td>\n",
       "      <td>0</td>\n",
       "      <td>1</td>\n",
       "      <td>2</td>\n",
       "      <td>Germany</td>\n",
       "      <td>20</td>\n",
       "      <td>0</td>\n",
       "      <td>0</td>\n",
       "      <td>134</td>\n",
       "      <td>2100</td>\n",
       "      <td>0</td>\n",
       "      <td>NaT</td>\n",
       "      <td>NaT</td>\n",
       "      <td>2018-04-21 15:00:00</td>\n",
       "      <td>NaT</td>\n",
       "    </tr>\n",
       "    <tr>\n",
       "      <th>2</th>\n",
       "      <td>2018-04-19</td>\n",
       "      <td>2018041906042028472</td>\n",
       "      <td>1M38SITXM0</td>\n",
       "      <td>TR</td>\n",
       "      <td>0</td>\n",
       "      <td>0</td>\n",
       "      <td>2</td>\n",
       "      <td>Turkey</td>\n",
       "      <td>20</td>\n",
       "      <td>0</td>\n",
       "      <td>0</td>\n",
       "      <td>189</td>\n",
       "      <td>2100</td>\n",
       "      <td>31</td>\n",
       "      <td>NaT</td>\n",
       "      <td>NaT</td>\n",
       "      <td>2018-04-19 06:00:00</td>\n",
       "      <td>NaT</td>\n",
       "    </tr>\n",
       "    <tr>\n",
       "      <th>3</th>\n",
       "      <td>2018-04-29</td>\n",
       "      <td>2018042913038063890</td>\n",
       "      <td>7J2MNK45NU</td>\n",
       "      <td>DE</td>\n",
       "      <td>0</td>\n",
       "      <td>0</td>\n",
       "      <td>10</td>\n",
       "      <td>Mexico</td>\n",
       "      <td>20</td>\n",
       "      <td>0</td>\n",
       "      <td>0</td>\n",
       "      <td>83</td>\n",
       "      <td>2116</td>\n",
       "      <td>0</td>\n",
       "      <td>NaT</td>\n",
       "      <td>NaT</td>\n",
       "      <td>2018-04-29 13:00:00</td>\n",
       "      <td>NaT</td>\n",
       "    </tr>\n",
       "    <tr>\n",
       "      <th>4</th>\n",
       "      <td>2018-04-05</td>\n",
       "      <td>2018040511098032520</td>\n",
       "      <td>4VB4NF25TK</td>\n",
       "      <td>UK</td>\n",
       "      <td>0</td>\n",
       "      <td>0</td>\n",
       "      <td>2</td>\n",
       "      <td>United Kingdom</td>\n",
       "      <td>20</td>\n",
       "      <td>1</td>\n",
       "      <td>0</td>\n",
       "      <td>2407</td>\n",
       "      <td>2100</td>\n",
       "      <td>80</td>\n",
       "      <td>2018-08-25</td>\n",
       "      <td>2018-08-30</td>\n",
       "      <td>2018-04-05 11:00:00</td>\n",
       "      <td>5 days</td>\n",
       "    </tr>\n",
       "    <tr>\n",
       "      <th>...</th>\n",
       "      <td>...</td>\n",
       "      <td>...</td>\n",
       "      <td>...</td>\n",
       "      <td>...</td>\n",
       "      <td>...</td>\n",
       "      <td>...</td>\n",
       "      <td>...</td>\n",
       "      <td>...</td>\n",
       "      <td>...</td>\n",
       "      <td>...</td>\n",
       "      <td>...</td>\n",
       "      <td>...</td>\n",
       "      <td>...</td>\n",
       "      <td>...</td>\n",
       "      <td>...</td>\n",
       "      <td>...</td>\n",
       "      <td>...</td>\n",
       "      <td>...</td>\n",
       "    </tr>\n",
       "    <tr>\n",
       "      <th>899995</th>\n",
       "      <td>2018-03-03</td>\n",
       "      <td>2018030318954011164</td>\n",
       "      <td>YGG0J168V4</td>\n",
       "      <td>CA</td>\n",
       "      <td>0</td>\n",
       "      <td>1</td>\n",
       "      <td>8</td>\n",
       "      <td>Canada</td>\n",
       "      <td>16</td>\n",
       "      <td>0</td>\n",
       "      <td>0</td>\n",
       "      <td>13</td>\n",
       "      <td>2116</td>\n",
       "      <td>0</td>\n",
       "      <td>NaT</td>\n",
       "      <td>NaT</td>\n",
       "      <td>2018-03-03 18:00:00</td>\n",
       "      <td>NaT</td>\n",
       "    </tr>\n",
       "    <tr>\n",
       "      <th>899996</th>\n",
       "      <td>2018-04-28</td>\n",
       "      <td>2018042823310017549</td>\n",
       "      <td>AM6OG6HQTN</td>\n",
       "      <td>AU</td>\n",
       "      <td>0</td>\n",
       "      <td>0</td>\n",
       "      <td>8</td>\n",
       "      <td>Australia</td>\n",
       "      <td>20</td>\n",
       "      <td>0</td>\n",
       "      <td>0</td>\n",
       "      <td>42</td>\n",
       "      <td>2113</td>\n",
       "      <td>0</td>\n",
       "      <td>NaT</td>\n",
       "      <td>NaT</td>\n",
       "      <td>2018-04-28 23:00:00</td>\n",
       "      <td>NaT</td>\n",
       "    </tr>\n",
       "    <tr>\n",
       "      <th>899997</th>\n",
       "      <td>2018-04-13</td>\n",
       "      <td>2018041320055037366</td>\n",
       "      <td>WPZZZU0EP6</td>\n",
       "      <td>BE</td>\n",
       "      <td>0</td>\n",
       "      <td>1</td>\n",
       "      <td>8</td>\n",
       "      <td>Belgium</td>\n",
       "      <td>20</td>\n",
       "      <td>1</td>\n",
       "      <td>0</td>\n",
       "      <td>151</td>\n",
       "      <td>2116</td>\n",
       "      <td>37</td>\n",
       "      <td>2018-06-18</td>\n",
       "      <td>2018-06-19</td>\n",
       "      <td>2018-04-13 20:00:00</td>\n",
       "      <td>1 days</td>\n",
       "    </tr>\n",
       "    <tr>\n",
       "      <th>899998</th>\n",
       "      <td>2018-04-18</td>\n",
       "      <td>2018041808332011694</td>\n",
       "      <td>SO4QPH2UI9</td>\n",
       "      <td>AU</td>\n",
       "      <td>0</td>\n",
       "      <td>0</td>\n",
       "      <td>8</td>\n",
       "      <td>Australia</td>\n",
       "      <td>20</td>\n",
       "      <td>0</td>\n",
       "      <td>0</td>\n",
       "      <td>15</td>\n",
       "      <td>2113</td>\n",
       "      <td>0</td>\n",
       "      <td>NaT</td>\n",
       "      <td>NaT</td>\n",
       "      <td>2018-04-18 08:00:00</td>\n",
       "      <td>NaT</td>\n",
       "    </tr>\n",
       "    <tr>\n",
       "      <th>899999</th>\n",
       "      <td>2018-03-28</td>\n",
       "      <td>2018032802927012146</td>\n",
       "      <td>ZAYJCL3C9V</td>\n",
       "      <td>EC</td>\n",
       "      <td>0</td>\n",
       "      <td>0</td>\n",
       "      <td>8</td>\n",
       "      <td>Ecuador</td>\n",
       "      <td>20</td>\n",
       "      <td>0</td>\n",
       "      <td>0</td>\n",
       "      <td>27</td>\n",
       "      <td>2116</td>\n",
       "      <td>2</td>\n",
       "      <td>NaT</td>\n",
       "      <td>NaT</td>\n",
       "      <td>2018-03-28 02:00:00</td>\n",
       "      <td>NaT</td>\n",
       "    </tr>\n",
       "  </tbody>\n",
       "</table>\n",
       "<p>900000 rows × 18 columns</p>\n",
       "</div>"
      ],
      "text/plain": [
       "              ymd           session_id tracking_id platform  is_app  \\\n",
       "0      2018-03-17  2018031709007001454  8TQMP2ZFW3       IN       0   \n",
       "1      2018-04-21  2018042115070025908  VR61OF5K1B       DE       0   \n",
       "2      2018-04-19  2018041906042028472  1M38SITXM0       TR       0   \n",
       "3      2018-04-29  2018042913038063890  7J2MNK45NU       DE       0   \n",
       "4      2018-04-05  2018040511098032520  4VB4NF25TK       UK       0   \n",
       "...           ...                  ...         ...      ...     ...   \n",
       "899995 2018-03-03  2018030318954011164  YGG0J168V4       CA       0   \n",
       "899996 2018-04-28  2018042823310017549  AM6OG6HQTN       AU       0   \n",
       "899997 2018-04-13  2018041320055037366  WPZZZU0EP6       BE       0   \n",
       "899998 2018-04-18  2018041808332011694  SO4QPH2UI9       AU       0   \n",
       "899999 2018-03-28  2018032802927012146  ZAYJCL3C9V       EC       0   \n",
       "\n",
       "        is_repeater  traffic_type    country_name  agent_id  clickouts  \\\n",
       "0                 0             2           India        20          1   \n",
       "1                 1             2         Germany        20          0   \n",
       "2                 0             2          Turkey        20          0   \n",
       "3                 0            10          Mexico        20          0   \n",
       "4                 0             2  United Kingdom        20          1   \n",
       "...             ...           ...             ...       ...        ...   \n",
       "899995            1             8          Canada        16          0   \n",
       "899996            0             8       Australia        20          0   \n",
       "899997            1             8         Belgium        20          1   \n",
       "899998            0             8       Australia        20          0   \n",
       "899999            0             8         Ecuador        20          0   \n",
       "\n",
       "        bookings session_duration  entry_page  total_ctp arrival_day  \\\n",
       "0              0              691        2100          2  2018-03-18   \n",
       "1              0              134        2100          0         NaT   \n",
       "2              0              189        2100         31         NaT   \n",
       "3              0               83        2116          0         NaT   \n",
       "4              0             2407        2100         80  2018-08-25   \n",
       "...          ...              ...         ...        ...         ...   \n",
       "899995         0               13        2116          0         NaT   \n",
       "899996         0               42        2113          0         NaT   \n",
       "899997         0              151        2116         37  2018-06-18   \n",
       "899998         0               15        2113          0         NaT   \n",
       "899999         0               27        2116          2         NaT   \n",
       "\n",
       "       departure_day                date nights  \n",
       "0         2018-03-19 2018-03-17 09:00:00 1 days  \n",
       "1                NaT 2018-04-21 15:00:00    NaT  \n",
       "2                NaT 2018-04-19 06:00:00    NaT  \n",
       "3                NaT 2018-04-29 13:00:00    NaT  \n",
       "4         2018-08-30 2018-04-05 11:00:00 5 days  \n",
       "...              ...                 ...    ...  \n",
       "899995           NaT 2018-03-03 18:00:00    NaT  \n",
       "899996           NaT 2018-04-28 23:00:00    NaT  \n",
       "899997    2018-06-19 2018-04-13 20:00:00 1 days  \n",
       "899998           NaT 2018-04-18 08:00:00    NaT  \n",
       "899999           NaT 2018-03-28 02:00:00    NaT  \n",
       "\n",
       "[900000 rows x 18 columns]"
      ]
     },
     "execution_count": 63,
     "metadata": {},
     "output_type": "execute_result"
    }
   ],
   "source": [
    "data"
   ]
  },
  {
   "cell_type": "code",
   "execution_count": null,
   "metadata": {},
   "outputs": [],
   "source": []
  }
 ],
 "metadata": {
  "kernelspec": {
   "display_name": "Python 3",
   "language": "python",
   "name": "python3"
  },
  "language_info": {
   "codemirror_mode": {
    "name": "ipython",
    "version": 3
   },
   "file_extension": ".py",
   "mimetype": "text/x-python",
   "name": "python",
   "nbconvert_exporter": "python",
   "pygments_lexer": "ipython3",
   "version": "3.7.6"
  }
 },
 "nbformat": 4,
 "nbformat_minor": 4
}
